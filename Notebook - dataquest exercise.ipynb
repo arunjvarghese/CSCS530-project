{
 "cells": [
  {
   "cell_type": "markdown",
   "metadata": {},
   "source": [
    "#Analyzing NFL Data\n",
    "\n"
   ]
  },
  {
   "cell_type": "markdown",
   "metadata": {},
   "source": [
    "###Modules\n"
   ]
  },
  {
   "cell_type": "code",
   "execution_count": null,
   "metadata": {
    "collapsed": true
   },
   "outputs": [],
   "source": [
    "import math"
   ]
  },
  {
   "cell_type": "code",
   "execution_count": 5,
   "metadata": {
    "collapsed": false
   },
   "outputs": [
    {
     "name": "stdout",
     "output_type": "stream",
     "text": [
      "3.0\n",
      "9.0\n",
      "9.0\n"
     ]
    }
   ],
   "source": [
    "print(math.sqrt(9))\n",
    "print(math.ceil(8.1))\n",
    "print math.floor(9.2)"
   ]
  },
  {
   "cell_type": "code",
   "execution_count": 6,
   "metadata": {
    "collapsed": true
   },
   "outputs": [],
   "source": [
    "a = math.sqrt(16)\n",
    "b = math.ceil(111.3)\n",
    "c = math.floor(89.9)"
   ]
  },
  {
   "cell_type": "code",
   "execution_count": null,
   "metadata": {
    "collapsed": true
   },
   "outputs": [],
   "source": [
    "a = math.sqrt(math.pi)\n",
    "b = math.ceil(math.pi)\n",
    "c = math.floor(math.pi)"
   ]
  },
  {
   "cell_type": "markdown",
   "metadata": {},
   "source": [
    "###Read in NFL wins data"
   ]
  },
  {
   "cell_type": "code",
   "execution_count": null,
   "metadata": {
    "collapsed": true
   },
   "outputs": [],
   "source": [
    "f1 = open(\"nfl.csv\", 'r')\n",
    "csvreader1 = csv.reader(f1)\n",
    "nfl = list(csvreader1)\n",
    "print(nfl)"
   ]
  },
  {
   "cell_type": "markdown",
   "metadata": {},
   "source": [
    "###Count how many wins the New England Patriots had"
   ]
  },
  {
   "cell_type": "code",
   "execution_count": null,
   "metadata": {
    "collapsed": true
   },
   "outputs": [],
   "source": [
    "patriots_wins = 0\n",
    "\n",
    "for line in nfl:\n",
    "    if line[2]=='New England Patriots':\n",
    "        patriots_wins = patriots_wins +1\n",
    "        \n",
    "print(patriots_wins)"
   ]
  },
  {
   "cell_type": "markdown",
   "metadata": {},
   "source": [
    "Make this general"
   ]
  },
  {
   "cell_type": "code",
   "execution_count": 14,
   "metadata": {
    "collapsed": true
   },
   "outputs": [],
   "source": [
    "# The nfl data is loaded into the nfl variable.\n",
    "\n",
    "def wins(team_name):\n",
    "    count = 0\n",
    "    for line in nfl:\n",
    "        if line[2]==team_name:\n",
    "            count  = count +1\n",
    "    return count\n",
    "    \n",
    "    \n",
    "cowboys_wins = wins(\"Dallas Cowboys\")\n",
    "falcons_wins = wins(\"Atlanta Falcons\")"
   ]
  },
  {
   "cell_type": "markdown",
   "metadata": {},
   "source": [
    "###Boolean statements"
   ]
  },
  {
   "cell_type": "code",
   "execution_count": 18,
   "metadata": {
    "collapsed": false
   },
   "outputs": [
    {
     "name": "stdout",
     "output_type": "stream",
     "text": [
      "True False\n"
     ]
    }
   ],
   "source": [
    "c=1\n",
    "d=2\n",
    "\n",
    "a = c==1 and d==2\n",
    "b = c==1 and d==3\n",
    "\n",
    "print a,b"
   ]
  },
  {
   "cell_type": "code",
   "execution_count": 19,
   "metadata": {
    "collapsed": false
   },
   "outputs": [
    {
     "name": "stdout",
     "output_type": "stream",
     "text": [
      "True False\n"
     ]
    }
   ],
   "source": [
    "c=10\n",
    "d=15\n",
    "\n",
    "a= c==10 or d==13\n",
    "b= c==12 or d==13\n",
    "\n",
    "print a,b"
   ]
  },
  {
   "cell_type": "code",
   "execution_count": null,
   "metadata": {
    "collapsed": true
   },
   "outputs": [],
   "source": [
    "# Modify this function to also take a year as input, and returns the wins by the team in the year.\n",
    "def nfl_wins(team,year):\n",
    "    count = 0\n",
    "    for row in nfl:\n",
    "        # We need to ensure that we only increment the count when the row pertains to the year we want.\n",
    "        if row[2] == team and row[0] == year:\n",
    "            count = count + 1\n",
    "    return count\n",
    "    \n",
    "    \n",
    "browns_2010_wins = nfl_wins(\"Cleveland Browns\",\"2010\")\n",
    "eagles_2011_wins = nfl_wins(\"Philadelphia Eagles\",\"2011\")"
   ]
  },
  {
   "cell_type": "code",
   "execution_count": null,
   "metadata": {
    "collapsed": true
   },
   "outputs": [],
   "source": [
    "# We'll need to create a new function to returns wins for each year.\n",
    "# It will call nfl_wins_by_year as part of its computations.\n",
    "def nfl_wins_in_a_year(team, year):\n",
    "    count = 0\n",
    "    for row in nfl:\n",
    "        if row[2] == team and row[0] == year:\n",
    "            count = count + 1\n",
    "    return count\n",
    "\n",
    "def nfl_wins_by_year(team):\n",
    "    win_dict = {}\n",
    "    for year in [\"2009\", \"2010\", \"2011\", \"2012\",\"2013\"]:\n",
    "        win_dict[year]=nfl_wins_in_a_year(team,year)\n",
    "    return win_dict\n",
    "    \n",
    "dolphins_wins_by_year= nfl_wins_by_year(\"Miami Dolphins\")\n",
    "chargers_wins_by_year = nfl_wins_by_year(\"San Diego Chargers\")"
   ]
  }
 ],
 "metadata": {
  "kernelspec": {
   "display_name": "Python 2",
   "language": "python",
   "name": "python2"
  },
  "language_info": {
   "codemirror_mode": {
    "name": "ipython",
    "version": 2
   },
   "file_extension": ".py",
   "mimetype": "text/x-python",
   "name": "python",
   "nbconvert_exporter": "python",
   "pygments_lexer": "ipython2",
   "version": "2.7.9"
  }
 },
 "nbformat": 4,
 "nbformat_minor": 0
}
