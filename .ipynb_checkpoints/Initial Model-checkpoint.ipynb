{
 "cells": [
  {
   "cell_type": "markdown",
   "metadata": {},
   "source": [
    "##Overview\n",
    "\n",
    "I want to think about what my model looks like and the steps it goes through.\n",
    "\n",
    "Takes in a network.  Then for every pair of nodes, runs 3/4 steps of an information diffusion process.  This process will be defined in a certain way (complex contagion?).  Once this is done for every combination of nodes, I will select the combination which leads to best diffusion (how will best be defined?  most spread?  fastest spread?).\n",
    "\n",
    "My variations:\n",
    "Another info diffussion process?  (adopt, untouched, or disadopt) (random adoption)\n",
    "\n",
    "Does this best performer match other best performer?\n",
    "\n",
    "Do best performers correlate with demographic data?  Eg: best performers are village heads?\n",
    "Or is there non-network info that we can use to find best performers."
   ]
  },
  {
   "cell_type": "code",
   "execution_count": null,
   "metadata": {
    "collapsed": true
   },
   "outputs": [],
   "source": []
  }
 ],
 "metadata": {
  "kernelspec": {
   "display_name": "Python 2",
   "name": "python2"
  },
  "language_info": {
   "codemirror_mode": {
    "name": "ipython",
    "version": 2
   },
   "file_extension": ".py",
   "mimetype": "text/x-python",
   "name": "python",
   "nbconvert_exporter": "python",
   "pygments_lexer": "ipython2",
   "version": "2.7.8"
  }
 },
 "nbformat": 4,
 "nbformat_minor": 0
}
