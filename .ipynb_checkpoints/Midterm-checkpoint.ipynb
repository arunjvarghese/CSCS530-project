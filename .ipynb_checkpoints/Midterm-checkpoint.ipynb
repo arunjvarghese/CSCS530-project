{
 "cells": [
  {
   "cell_type": "markdown",
   "metadata": {},
   "source": [
    "##Final Project\n",
    "\n",
    "State problem in a single sentence.\n",
    "\n",
    "Why amenable to Networks.\n",
    "\n",
    "How will model answer question.\n",
    "\n",
    "various pieces of your model.  Identify a mechanism or process, how you will perform an experiment with its parameters, and what you will measure\n",
    "\n"
   ]
  },
  {
   "cell_type": "code",
   "execution_count": null,
   "metadata": {
    "collapsed": true
   },
   "outputs": [],
   "source": [
    "'''''\n",
    "Code Notebook (80%)\n",
    "Brief overview of your model (10%)\n",
    "Outline what your model is meant to do and how it will answer your question\n",
    "Code Notebook (70%)\n",
    "List of the sweep parameters that are important to answering your question in the model and the processes / mechanisms that they are involved in. List of the outcome measures that your parameter sweeps are going to affect (10%)\n",
    "Initialization of your parameters and variables (10%)\n",
    "Definition of all classes and preliminary code (10%)\n",
    "Definition of all constructors and preliminary code (10%)\n",
    "List all methods (i.e., setup(), step(), moveAgents(), infectAgents()) and preliminary code for at least 50% of methods (10%)\n",
    "Preliminary code of your step method (10%)\n",
    "Quality of the comments so that your code is easy to follow and the steps for future work and where they will be implemented be in your code is evident (10%)\n",
    "''''''"
   ]
  }
 ],
 "metadata": {
  "kernelspec": {
   "display_name": "Python 2",
   "name": "python2"
  },
  "language_info": {
   "codemirror_mode": {
    "name": "ipython",
    "version": 2
   },
   "file_extension": ".py",
   "mimetype": "text/x-python",
   "name": "python",
   "nbconvert_exporter": "python",
   "pygments_lexer": "ipython2",
   "version": "2.7.8"
  }
 },
 "nbformat": 4,
 "nbformat_minor": 0
}
